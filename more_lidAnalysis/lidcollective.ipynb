{
 "cells": [
  {
   "cell_type": "code",
   "execution_count": 2,
   "metadata": {},
   "outputs": [
    {
     "name": "stderr",
     "output_type": "stream",
     "text": [
      "Using TensorFlow backend.\n"
     ]
    }
   ],
   "source": [
    "from dataset import CIFAR\n",
    "from resnet import Resnet\n",
    "import numpy as np\n",
    "import matplotlib.pyplot as plt\n",
    "import os\n",
    "from keras.models import load_model\n",
    "import extract_lid"
   ]
  },
  {
   "cell_type": "code",
   "execution_count": 3,
   "metadata": {},
   "outputs": [],
   "source": [
    "def images(adv_ims,real_ims=None,titles=None):\n",
    "    fig = plt.figure(figsize=(5,20))\n",
    "    plt.imshow(np.concatenate(adv_ims,axis=0))\n",
    "    plt.axis('off')\n"
   ]
  },
  {
   "cell_type": "code",
   "execution_count": 4,
   "metadata": {},
   "outputs": [
    {
     "name": "stdout",
     "output_type": "stream",
     "text": [
      "Accuracy on CIFAR test data :  0.7564\n"
     ]
    }
   ],
   "source": [
    "data = CIFAR()\n",
    "model_file = os.path.join(\"data/model_cifar.h5\")\n",
    "model_LID = load_model(model_file)\n",
    "preds = model_LID.predict(data.test_data)\n",
    "acc = np.mean(np.argmax(preds,axis=1) == np.argmax(data.test_labels,axis=1))\n",
    "print(\"Accuracy on CIFAR test data : \",acc)"
   ]
  },
  {
   "cell_type": "code",
   "execution_count": 5,
   "metadata": {},
   "outputs": [],
   "source": [
    "x =[]\n",
    "y = []\n",
    "z = []"
   ]
  },
  {
   "cell_type": "code",
   "execution_count": 9,
   "metadata": {},
   "outputs": [
    {
     "name": "stdout",
     "output_type": "stream",
     "text": [
      "(27, 32, 32, 3)\n"
     ]
    }
   ],
   "source": [
    "adv_img_1 = np.load('/home/rajaniep/code/LIDcode_original/data/Adv_8.85865_0.npy')\n",
    "adv_img_2 = np.load('/home/rajaniep/code/LIDcode_original/data/Adv_8.57575_0.npy')\n",
    "adv_img_3 = np.load('/home/rajaniep/code/LIDcode_original/data/Adv_7.31083_0.npy')\n",
    "adv_img_4 = np.load('/home/rajaniep/code/LIDcode_original/data/Adv_6.05186_0.npy')\n",
    "adv_img_5 = np.load('/home/rajaniep/code/LIDcode_original/data/Adv_4.97107_0.npy')\n",
    "adv_img_6 = np.load('/home/rajaniep/code/LIDcode_original/data/Adv_4.13209_0.npy')\n",
    "adv_img_7 = np.load('/home/rajaniep/code/LIDcode_original/data/Adv_4.13209_0.npy')\n",
    "adv_img_8 = np.load('/home/rajaniep/code/LIDcode_original/data/Adv_3.30862_0.npy')\n",
    "adv_img_9 = np.load('/home/rajaniep/code/LIDcode_original/data/Adv_3.10008_0.npy')\n",
    "adv_img_10 = np.load('/home/rajaniep/code/LIDcode_original/data/Adv_2.83286_0.npy')\n",
    "adv_img_11 = np.load('/home/rajaniep/code/LIDcode_original/data/Adv_2.69178_0.npy')\n",
    "adv_img_12 = np.load('/home/rajaniep/code/LIDcode_original/data/Adv_2.41148_0.npy')\n",
    "adv_img_13 = np.load('/home/rajaniep/code/LIDcode_original/data/Adv_2.20231_0.npy')\n",
    "adv_img_14 = np.load('/home/rajaniep/code/LIDcode_original/data/Adv_2.1024_0.npy')\n",
    "adv_img_15 = np.load('/home/rajaniep/code/LIDcode_original/data/Adv_1.78076_0.npy')\n",
    "adv_img_16 = np.load('/home/rajaniep/code/LIDcode_original/data/Adv_1.42021_0.npy')\n",
    "adv_img_17 = np.load('/home/rajaniep/code/LIDcode_original/data/Adv_1.39102_0.npy')\n",
    "adv_img_18 = np.load('/home/rajaniep/code/LIDcode_original/data/Adv_0.441234_0.npy')\n",
    "adv_img_19 = np.load('/home/rajaniep/code/LIDcode_original/data/Adv_0.559861_0.npy')\n",
    "adv_img_20 = np.load('/home/rajaniep/code/LIDcode_original/data/Adv_0.85279_0.npy')\n",
    "adv_img_21 = np.load('/home/rajaniep/code/LIDcode_original/data/Adv_10.699_0.npy')\n",
    "adv_img_22 = np.load('/home/rajaniep/code/LIDcode_original/data/Adv_11.3495_0.npy')\n",
    "adv_img_23 = np.load('/home/rajaniep/code/LIDcode_original/data/Adv_9.74533_0.npy')\n",
    "adv_img_24 = np.load('/home/rajaniep/code/LIDcode_original/data/Adv_8.31529_0.npy')\n",
    "adv_img_25 = np.load('/home/rajaniep/code/LIDcode_original/data/Adv_8.03133_0.npy')\n",
    "adv_img_26 = np.load('/home/rajaniep/code/LIDcode_original/data/Adv_2.25268_0.npy')\n",
    "adv_img_27 = np.load('/home/rajaniep/code/LIDcode_original/data/Adv_1.87693_0.npy')\n",
    "\n",
    "arrays_adv = []\n",
    "arrays_adv.extend(adv_img_1)\n",
    "arrays_adv.extend(adv_img_2)\n",
    "arrays_adv.extend(adv_img_3)\n",
    "arrays_adv.extend(adv_img_4)\n",
    "arrays_adv.extend(adv_img_5)     \n",
    "arrays_adv.extend(adv_img_6)       \n",
    "arrays_adv.extend(adv_img_7)       \n",
    "arrays_adv.extend(adv_img_8)      \n",
    "arrays_adv.extend(adv_img_9)    \n",
    "arrays_adv.extend(adv_img_10)\n",
    "arrays_adv.extend(adv_img_11)\n",
    "arrays_adv.extend(adv_img_12)\n",
    "arrays_adv.extend(adv_img_13)\n",
    "arrays_adv.extend(adv_img_14)\n",
    "arrays_adv.extend(adv_img_15)     \n",
    "arrays_adv.extend(adv_img_16)      \n",
    "arrays_adv.extend(adv_img_17)       \n",
    "arrays_adv.extend(adv_img_18)    \n",
    "arrays_adv.extend(adv_img_19)    \n",
    "arrays_adv.extend(adv_img_20) \n",
    "arrays_adv.extend(adv_img_21)\n",
    "arrays_adv.extend(adv_img_22)\n",
    "arrays_adv.extend(adv_img_23)     \n",
    "arrays_adv.extend(adv_img_24)      \n",
    "arrays_adv.extend(adv_img_25)       \n",
    "arrays_adv.extend(adv_img_26)    \n",
    "arrays_adv.extend(adv_img_27)    \n",
    "\n",
    "x_adv = np.asarray(arrays_adv, dtype=np.float32)\n",
    "print(x_adv.shape)\n",
    "\n",
    "\n"
   ]
  },
  {
   "cell_type": "code",
   "execution_count": 11,
   "metadata": {},
   "outputs": [
    {
     "name": "stdout",
     "output_type": "stream",
     "text": [
      "27\n",
      "(27, 32, 32, 3)\n"
     ]
    }
   ],
   "source": [
    "x_norm = []\n",
    "for i in range(198):\n",
    "    \n",
    "    if data.test_labels[i][8] == 1 :\n",
    "        x_norm.append(data.test_data[i])\n",
    "        \n",
    "print(len(x_norm))\n",
    "x_clean = np.asarray(x_norm, dtype=np.float32)\n",
    "print(x_clean.shape)\n"
   ]
  },
  {
   "cell_type": "code",
   "execution_count": 12,
   "metadata": {},
   "outputs": [
    {
     "name": "stderr",
     "output_type": "stream",
     "text": [
      "  0%|          | 0/6 [00:00<?, ?it/s]"
     ]
    },
    {
     "name": "stdout",
     "output_type": "stream",
     "text": [
      "Extract local intrinsic dimensionality: k = 5\n",
      "Number of layers to estimate:  26\n"
     ]
    },
    {
     "name": "stderr",
     "output_type": "stream",
     "text": [
      " 83%|████████▎ | 5/6 [00:01<00:00,  3.46it/s]/home/rajaniep/code/LIDcode_original/util_lid.py:391: RuntimeWarning: divide by zero encountered in double_scalars\n",
      "  f = lambda v: - k / np.sum(np.log(v/v[-1]))\n",
      "100%|██████████| 6/6 [00:01<00:00,  3.73it/s]"
     ]
    },
    {
     "name": "stdout",
     "output_type": "stream",
     "text": [
      "lids_normal: (27, 26)\n",
      "lids_adv: (27, 26)\n"
     ]
    },
    {
     "name": "stderr",
     "output_type": "stream",
     "text": [
      "\n"
     ]
    }
   ],
   "source": [
    "lid_adv, lid_normal = extract_lid.get_lid(model = model_LID, \n",
    "                                X_test = x_clean, \n",
    "                                X_test_adv= x_adv, \n",
    "                                k=5, batch_size=5, \n",
    "                                dataset='cifar')\n",
    "\n",
    "\n"
   ]
  },
  {
   "cell_type": "code",
   "execution_count": 96,
   "metadata": {},
   "outputs": [],
   "source": [
    "y8 =[]\n",
    "z8= []\n",
    "\n",
    "for i in range(27):\n",
    "    y8.append(lid_adv[i][25])\n",
    "    z8.append(np.sum(lid_adv[i])/26)\n",
    "\n"
   ]
  },
  {
   "cell_type": "code",
   "execution_count": 98,
   "metadata": {},
   "outputs": [],
   "source": [
    "y9 =[]\n",
    "z9= []\n",
    "\n",
    "for i in range(27):\n",
    "    y9.append(lid_adv[i][25])\n",
    "    z9.append(np.sum(lid_adv[i])/26)\n",
    "\n"
   ]
  },
  {
   "cell_type": "code",
   "execution_count": 102,
   "metadata": {},
   "outputs": [],
   "source": [
    "y10 =[]\n",
    "z10= []\n",
    "\n",
    "for i in range(27):\n",
    "    y10.append(lid_adv[i][25])\n",
    "    z10.append(np.sum(lid_adv[i])/26)\n",
    "\n"
   ]
  },
  {
   "cell_type": "code",
   "execution_count": 104,
   "metadata": {},
   "outputs": [],
   "source": [
    "y11 =[]\n",
    "z11= []\n",
    "\n",
    "for i in range(27):\n",
    "    y11.append(lid_adv[i][25])\n",
    "    z11.append(np.sum(lid_adv[i])/26)\n",
    "\n"
   ]
  },
  {
   "cell_type": "code",
   "execution_count": 73,
   "metadata": {},
   "outputs": [
    {
     "name": "stdout",
     "output_type": "stream",
     "text": [
      "27\n",
      "27\n"
     ]
    }
   ],
   "source": [
    "##k= 10 batch_size= 5\n",
    "x= []\n",
    "y =[]\n",
    "z= []\n",
    "x.append(8.85865)\n",
    "y.append(lid_adv[0][25]) ## lid of 1st adversarial example : last layer\n",
    "z.append(np.sum(lid_adv[0])/26)\n",
    "\n",
    "x.append(8.57575)\n",
    "y.append(lid_adv[1][25]) ## lid of 2nd adversarial example : last layer\n",
    "z.append(np.sum(lid_adv[1])/26)\n",
    "\n",
    "x.append(7.31083)\n",
    "y.append(lid_adv[2][25]) ## lid of 3rd adversarial example : last layer\n",
    "z.append(np.sum(lid_adv[2])/26)\n",
    "\n",
    "x.append(6.05186)\n",
    "y.append(lid_adv[3][25]) ## lid of 4th adversarial example : last layer\n",
    "z.append(np.sum(lid_adv[3])/26)\n",
    "\n",
    "x.append(4.97107)\n",
    "y.append(lid_adv[4][25]) ## lid of 5th adversarial example : last layer\n",
    "z.append(np.sum(lid_adv[4])/26)\n",
    "\n",
    "x.append(4.132)\n",
    "y.append(lid_adv[5][25]) ## lid of 6th adversarial example : last layer\n",
    "z.append(np.sum(lid_adv[5])/26)\n",
    "\n",
    "x.append(4.132)\n",
    "y.append(lid_adv[6][25]) ## lid of 7th adversarial example : last layer\n",
    "z.append(np.sum(lid_adv[6])/26)\n",
    "\n",
    "x.append(3.30862)\n",
    "y.append(lid_adv[7][25]) ## lid of 8th adversarial example : last layer\n",
    "z.append(np.sum(lid_adv[7])/26)\n",
    "\n",
    "x.append(3.1008)\n",
    "y.append(lid_adv[8][25]) ## lid of 9th adversarial example : last layer\n",
    "z.append(np.sum(lid_adv[8])/26)\n",
    "\n",
    "x.append(2.83286)\n",
    "y.append(lid_adv[9][25]) ## lid of 10th adversarial example : last layer\n",
    "z.append(np.sum(lid_adv[9])/26)\n",
    "\n",
    "x.append(2.69178)\n",
    "y.append(lid_adv[10][25]) ## lid of 11th adversarial example : last layer\n",
    "z.append(np.sum(lid_adv[10])/26)\n",
    "\n",
    "x.append(2.41148)\n",
    "y.append(lid_adv[11][25]) ## lid of 12th adversarial example : last layer\n",
    "z.append(np.sum(lid_adv[11])/26)\n",
    "\n",
    "x.append(2.20231)\n",
    "y.append(lid_adv[12][25]) ## lid of 13th adversarial example : last layer\n",
    "z.append(np.sum(lid_adv[12])/26)\n",
    "\n",
    "x.append(2.1024)\n",
    "y.append(lid_adv[13][25]) ## lid of 14th adversarial example : last layer\n",
    "z.append(np.sum(lid_adv[13])/26)\n",
    "\n",
    "x.append(1.78076)\n",
    "y.append(lid_adv[14][25]) ## lid of 15th adversarial example : last layer\n",
    "z.append(np.sum(lid_adv[14])/26)\n",
    "\n",
    "x.append(1.42021)\n",
    "y.append(lid_adv[15][25]) ## lid of 16th adversarial example : last layer\n",
    "z.append(np.sum(lid_adv[15])/26)\n",
    "\n",
    "x.append(1.39102)\n",
    "y.append(lid_adv[16][25]) ## lid of 17th adversarial example : last layer\n",
    "z.append(np.sum(lid_adv[16])/26)\n",
    "\n",
    "x.append(0.441234)\n",
    "y.append(lid_adv[17][25]) ## lid of 18th adversarial example : last layer\n",
    "z.append(np.sum(lid_adv[17])/26)\n",
    "\n",
    "x.append(0.559861)\n",
    "y.append(lid_adv[18][25]) ## lid of 19th adversarial example : last layer\n",
    "z.append(np.sum(lid_adv[18])/26)\n",
    "\n",
    "x.append(0.85279)\n",
    "y.append(lid_adv[19][25]) ## lid of 20th adversarial example : last layer\n",
    "z.append(np.sum(lid_adv[19])/26)\n",
    "\n",
    "x.append(10.699)\n",
    "y.append(lid_adv[20][25]) ## lid of 21st adversarial example : last layer\n",
    "z.append(np.sum(lid_adv[20])/26)\n",
    "\n",
    "x.append(11.3495)\n",
    "y.append(lid_adv[21][25]) ## lid of 22nd adversarial example : last layer\n",
    "z.append(np.sum(lid_adv[21])/26)\n",
    "\n",
    "x.append(9.74533)\n",
    "y.append(lid_adv[22][25]) ## lid of 23rd adversarial example : last layer\n",
    "z.append(np.sum(lid_adv[22])/26)\n",
    "\n",
    "x.append(8.31529)\n",
    "y.append(lid_adv[23][25]) ## lid of 24th adversarial example : last layer\n",
    "z.append(np.sum(lid_adv[23])/26)\n",
    "\n",
    "x.append(8.03133)\n",
    "y.append(lid_adv[24][25]) ## lid of 25th adversarial example : last layer\n",
    "z.append(np.sum(lid_adv[24])/26)\n",
    "\n",
    "x.append(2.25268)\n",
    "y.append(lid_adv[25][25]) ## lid of 26th adversarial example : last layer\n",
    "z.append(np.sum(lid_adv[25])/26)\n",
    "\n",
    "x.append(1.87693)\n",
    "y.append(lid_adv[26][25]) ## lid of 27th adversarial example : last layer\n",
    "z.append(np.sum(lid_adv[26])/26)\n",
    "print(len(x))\n",
    "print(len(y))\n",
    "\n"
   ]
  },
  {
   "cell_type": "code",
   "execution_count": 75,
   "metadata": {},
   "outputs": [],
   "source": [
    "y7 =[]\n",
    "z7= []\n",
    "\n",
    "for i in range(27):\n",
    "    y7.append(lid_adv[i][25])\n",
    "    z7.append(np.sum(lid_adv[i])/26)\n"
   ]
  },
  {
   "cell_type": "code",
   "execution_count": 106,
   "metadata": {},
   "outputs": [],
   "source": [
    "y1 =[]\n",
    "z1= []\n",
    "\n",
    "for i in range(27):\n",
    "    y1.append(lid_adv[i][25])\n",
    "    z1.append(np.sum(lid_adv[i])/26)\n",
    "\n"
   ]
  },
  {
   "cell_type": "code",
   "execution_count": 65,
   "metadata": {},
   "outputs": [],
   "source": [
    "y2 =[]\n",
    "z2= []\n",
    "\n",
    "for i in range(27):\n",
    "    y2.append(lid_adv[i][25])\n",
    "    z2.append(np.sum(lid_adv[i])/26)\n",
    "\n"
   ]
  },
  {
   "cell_type": "code",
   "execution_count": 67,
   "metadata": {},
   "outputs": [],
   "source": [
    "y3 =[]\n",
    "z3= []\n",
    "\n",
    "for i in range(27):\n",
    "    y3.append(lid_adv[i][25])\n",
    "    z3.append(np.sum(lid_adv[i])/26)\n",
    "\n"
   ]
  },
  {
   "cell_type": "code",
   "execution_count": 69,
   "metadata": {},
   "outputs": [],
   "source": [
    "y4 =[]\n",
    "z4= []\n",
    "\n",
    "for i in range(27):\n",
    "    y4.append(lid_adv[i][25])\n",
    "    z4.append(np.sum(lid_adv[i])/26)\n",
    "\n"
   ]
  },
  {
   "cell_type": "code",
   "execution_count": 71,
   "metadata": {},
   "outputs": [],
   "source": [
    "y5 =[]\n",
    "z5= []\n",
    "\n",
    "for i in range(27):\n",
    "    y5.append(lid_adv[i][25])\n",
    "    z5.append(np.sum(lid_adv[i])/26)\n",
    "\n"
   ]
  },
  {
   "cell_type": "code",
   "execution_count": 29,
   "metadata": {},
   "outputs": [
    {
     "name": "stdout",
     "output_type": "stream",
     "text": [
      "On last layer\n"
     ]
    },
    {
     "data": {
      "image/png": "[encoded data removed]",
      "text/plain": [
       "<matplotlib.figure.Figure at 0x7fa42c194d68>"
      ]
     },
     "metadata": {},
     "output_type": "display_data"
    }
   ],
   "source": [
    "print(\"On last layer\")\n",
    "import matplotlib.pyplot as plt\n",
    "plt.scatter(x,y)\n",
    "plt.xlabel(\"l2 Perturbation\")\n",
    "plt.ylabel(\"LID score(Pre softmax layer)\")\n",
    "plt.show()"
   ]
  },
  {
   "cell_type": "code",
   "execution_count": 31,
   "metadata": {},
   "outputs": [
    {
     "name": "stdout",
     "output_type": "stream",
     "text": [
      "On average lid score\n"
     ]
    },
    {
     "data": {
      "image/png": "[encoded data removed]",
      "text/plain": [
       "<matplotlib.figure.Figure at 0x7fa42c044eb8>"
      ]
     },
     "metadata": {},
     "output_type": "display_data"
    }
   ],
   "source": [
    "print(\"On average lid score\")\n",
    "import matplotlib.pyplot as plt\n",
    "plt.scatter(x,z)\n",
    "plt.xlabel(\"l2 Perturbation\")\n",
    "plt.ylabel(\"LID score(Average)\")\n",
    "plt.show()"
   ]
  },
  {
   "cell_type": "markdown",
   "metadata": {},
   "source": [
    "k=20, batch_size= 10"
   ]
  },
  {
   "cell_type": "code",
   "execution_count": 34,
   "metadata": {},
   "outputs": [
    {
     "name": "stdout",
     "output_type": "stream",
     "text": [
      "On last layer\n"
     ]
    },
    {
     "data": {
      "image/png": "[encoded data removed]",
      "text/plain": [
       "<matplotlib.figure.Figure at 0x7fa42c07fdd8>"
      ]
     },
     "metadata": {},
     "output_type": "display_data"
    }
   ],
   "source": [
    "print(\"On last layer\")\n",
    "import matplotlib.pyplot as plt\n",
    "plt.scatter(x,y)\n",
    "plt.xlabel(\"l2 Perturbation\")\n",
    "plt.ylabel(\"LID score(Pre softmax layer)\")\n",
    "plt.show()"
   ]
  },
  {
   "cell_type": "code",
   "execution_count": 35,
   "metadata": {},
   "outputs": [
    {
     "name": "stdout",
     "output_type": "stream",
     "text": [
      "On average lid score\n"
     ]
    },
    {
     "data": {
      "image/png": "[encoded data removed]",
      "text/plain": [
       "<matplotlib.figure.Figure at 0x7fa414429dd8>"
      ]
     },
     "metadata": {},
     "output_type": "display_data"
    }
   ],
   "source": [
    "print(\"On average lid score\")\n",
    "import matplotlib.pyplot as plt\n",
    "plt.scatter(x,z)\n",
    "plt.xlabel(\"l2 Perturbation\")\n",
    "plt.ylabel(\"LID score(Average)\")\n",
    "plt.show()"
   ]
  },
  {
   "cell_type": "markdown",
   "metadata": {},
   "source": [
    "k=27, batch_size= 14"
   ]
  },
  {
   "cell_type": "code",
   "execution_count": null,
   "metadata": {},
   "outputs": [],
   "source": []
  },
  {
   "cell_type": "code",
   "execution_count": 39,
   "metadata": {},
   "outputs": [
    {
     "name": "stdout",
     "output_type": "stream",
     "text": [
      "On average lid score\n"
     ]
    },
    {
     "data": {
      "image/png": "[encoded data removed]",
      "text/plain": [
       "<matplotlib.figure.Figure at 0x7fa41431c550>"
      ]
     },
     "metadata": {},
     "output_type": "display_data"
    }
   ],
   "source": [
    "print(\"On average lid score\")\n",
    "import matplotlib.pyplot as plt\n",
    "plt.scatter(x,z)\n",
    "plt.xlabel(\"l2 Perturbation\")\n",
    "plt.ylabel(\"LID score(Average)\")\n",
    "plt.show()"
   ]
  },
  {
   "cell_type": "markdown",
   "metadata": {},
   "source": [
    "k=5 batch=5 y1,z1"
   ]
  },
  {
   "cell_type": "markdown",
   "metadata": {},
   "source": [
    "k=10 batch=5 y2,z2"
   ]
  },
  {
   "cell_type": "markdown",
   "metadata": {},
   "source": [
    "k=20 batch=5 y3,z3"
   ]
  },
  {
   "cell_type": "markdown",
   "metadata": {},
   "source": [
    "k=27 batch=5 y4,y4"
   ]
  },
  {
   "cell_type": "markdown",
   "metadata": {},
   "source": [
    "k=27 batch=27 y5,z5"
   ]
  },
  {
   "cell_type": "markdown",
   "metadata": {},
   "source": [
    "k=27 batch=20 y,z"
   ]
  },
  {
   "cell_type": "markdown",
   "metadata": {},
   "source": [
    "k=27 batch=27 y8,z8"
   ]
  },
  {
   "cell_type": "markdown",
   "metadata": {},
   "source": [
    "k=27 batch=10 y7,z7"
   ]
  },
  {
   "cell_type": "markdown",
   "metadata": {},
   "source": [
    "k=20 batch=27 y9,z9"
   ]
  },
  {
   "cell_type": "markdown",
   "metadata": {},
   "source": [
    "k=10 batch=27 y10,z10"
   ]
  },
  {
   "cell_type": "markdown",
   "metadata": {},
   "source": [
    "k=5 batch= 27 y11, z11"
   ]
  },
  {
   "cell_type": "code",
   "execution_count": 87,
   "metadata": {},
   "outputs": [
    {
     "name": "stdout",
     "output_type": "stream",
     "text": [
      "k=27, On last presoftmax lid\n"
     ]
    },
    {
     "data": {
      "image/png": "[encoded data removed]",
      "text/plain": [
       "<matplotlib.figure.Figure at 0x7fa41431ec88>"
      ]
     },
     "metadata": {},
     "output_type": "display_data"
    }
   ],
   "source": [
    "print(\"k=27, On last presoftmax lid\")\n",
    "import matplotlib.pyplot as plt\n",
    "fig = plt.figure()\n",
    "ax1 = fig.add_subplot(111)\n",
    "ax1.scatter(x,y4, label = \"batch_size=5\")\n",
    "ax1.scatter(x,y7, label = \"batch_size=10\")\n",
    "ax1.scatter(x,y, label = \"batch_size=20\")\n",
    "ax1.scatter(x,y5, label = \"batch_size=27\")\n",
    "plt.xlabel(\"l2 Perturbation\")\n",
    "plt.ylabel(\"LID score(presoftmax)\")\n",
    "plt.legend(loc='upper left');\n",
    "plt.show()"
   ]
  },
  {
   "cell_type": "code",
   "execution_count": 88,
   "metadata": {},
   "outputs": [
    {
     "name": "stdout",
     "output_type": "stream",
     "text": [
      "k=27, On Average lid\n"
     ]
    },
    {
     "data": {
      "image/png": "[encoded data removed]",
      "text/plain": [
       "<matplotlib.figure.Figure at 0x7fa42c0a7438>"
      ]
     },
     "metadata": {},
     "output_type": "display_data"
    }
   ],
   "source": [
    "print(\"k=27, On Average lid\")\n",
    "import matplotlib.pyplot as plt\n",
    "fig = plt.figure()\n",
    "ax1 = fig.add_subplot(111)\n",
    "ax1.scatter(x,z4, label = \"batch_size=5\")\n",
    "ax1.scatter(x,z7, label = \"batch_size=10\")\n",
    "ax1.scatter(x,z, label = \"batch_size=20\")\n",
    "ax1.scatter(x,z5, label = \"batch_size=27\")\n",
    "plt.xlabel(\"l2 Perturbation\")\n",
    "plt.ylabel(\"LID score(average)\")\n",
    "plt.legend(loc='upper left');\n",
    "plt.show()"
   ]
  },
  {
   "cell_type": "code",
   "execution_count": 107,
   "metadata": {},
   "outputs": [
    {
     "name": "stdout",
     "output_type": "stream",
     "text": [
      "b=27, On Average lid\n"
     ]
    },
    {
     "data": {
      "image/png": "[encoded data removed]",
      "text/plain": [
       "<matplotlib.figure.Figure at 0x7fa404ce4c50>"
      ]
     },
     "metadata": {},
     "output_type": "display_data"
    }
   ],
   "source": [
    "print(\"b=27, On Average lid\")\n",
    "import matplotlib.pyplot as plt\n",
    "fig = plt.figure()\n",
    "ax1 = fig.add_subplot(111)\n",
    "ax1.scatter(x,z11, label = \"k=5\")\n",
    "ax1.scatter(x,z10, label = \"k=10\")\n",
    "ax1.scatter(x,z9, label = \"k=20\")\n",
    "ax1.scatter(x,z8, label = \"k=27\")\n",
    "plt.xlabel(\"l2 Perturbation\")\n",
    "plt.ylabel(\"LID score(average)\")\n",
    "plt.legend(loc='upper left');\n",
    "plt.show()"
   ]
  },
  {
   "cell_type": "code",
   "execution_count": 108,
   "metadata": {},
   "outputs": [
    {
     "name": "stdout",
     "output_type": "stream",
     "text": [
      "b=27, On Presoftmax lid\n"
     ]
    },
    {
     "data": {
      "image/png": "[encoded data removed]",
      "text/plain": [
       "<matplotlib.figure.Figure at 0x7fa404c77ba8>"
      ]
     },
     "metadata": {},
     "output_type": "display_data"
    }
   ],
   "source": [
    "print(\"b=27, On Presoftmax lid\")\n",
    "import matplotlib.pyplot as plt\n",
    "fig = plt.figure()\n",
    "ax1 = fig.add_subplot(111)\n",
    "ax1.scatter(x,y11, label = \"k=5\")\n",
    "ax1.scatter(x,y10, label = \"k=10\")\n",
    "ax1.scatter(x,y9, label = \"k=20\")\n",
    "ax1.scatter(x,y8, label = \"k=27\")\n",
    "plt.xlabel(\"l2 Perturbation\")\n",
    "plt.ylabel(\"LID score(Presoftmax)\")\n",
    "plt.legend(loc='upper left');\n",
    "plt.show()"
   ]
  }
 ],
 "metadata": {
  "kernelspec": {
   "display_name": "Python 3",
   "language": "python",
   "name": "python3"
  },
  "language_info": {
   "codemirror_mode": {
    "name": "ipython",
    "version": 3
   },
   "file_extension": ".py",
   "mimetype": "text/x-python",
   "name": "python",
   "nbconvert_exporter": "python",
   "pygments_lexer": "ipython3",
   "version": "3.6.4"
  }
 },
 "nbformat": 4,
 "nbformat_minor": 2
}
